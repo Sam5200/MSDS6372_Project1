{
 "cells": [
  {
   "cell_type": "code",
   "execution_count": 4,
   "metadata": {},
   "outputs": [
    {
     "name": "stdout",
     "output_type": "stream",
     "text": [
      "    |    |    \n",
      "____|____|____\n",
      "    |    |    \n",
      "____|____|____\n",
      "    |    |    \n",
      "    |    |    \n"
     ]
    }
   ],
   "source": [
    "# Travis Daun\n",
    "# MSDS 7330 403\n",
    "# tic_tac_toe.py\n",
    "# 18 May 2019\n",
    "# print out a tic-tac-toe board to the screen\n",
    "\n",
    "print(\"    |    |    \")\n",
    "print(\"____|____|____\")\n",
    "print(\"    |    |    \")\n",
    "print(\"____|____|____\")\n",
    "print(\"    |    |    \")\n",
    "print(\"    |    |    \")\n"
   ]
  },
  {
   "cell_type": "code",
   "execution_count": null,
   "metadata": {},
   "outputs": [],
   "source": []
  }
 ],
 "metadata": {
  "kernelspec": {
   "display_name": "Python 3",
   "language": "python",
   "name": "python3"
  },
  "language_info": {
   "codemirror_mode": {
    "name": "ipython",
    "version": 3
   },
   "file_extension": ".py",
   "mimetype": "text/x-python",
   "name": "python",
   "nbconvert_exporter": "python",
   "pygments_lexer": "ipython3",
   "version": "3.6.5"
  }
 },
 "nbformat": 4,
 "nbformat_minor": 2
}
